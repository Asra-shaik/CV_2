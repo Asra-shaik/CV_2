{
 "cells": [
  {
   "cell_type": "code",
   "execution_count": 2,
   "metadata": {
    "collapsed": true
   },
   "outputs": [],
   "source": [
    "import numpy as np\n",
    "import cv2\n",
    "cap = cv2.VideoCapture(0) # ACCESS WEBCAM\n",
    "while(True):\n",
    "    ret, frame = cap.read() #GET PICTURE FROM WEBCM\n",
    "    cv2.imshow('frame',frame) #SHOW THE IMAGE IN NEW WINDOW\n",
    "    if cv2.waitKey(1) & 0xFF == ord('q'): # EXIT WHEN PRESSED 'q'\n",
    "        break\n",
    "\n",
    "cap.release() # CLOSE THE WEBCAM\n",
    "cv2.destroyAllWindows() #CLOSE THE WINDOW"
   ]
  },
  {
   "cell_type": "code",
   "execution_count": 4,
   "metadata": {
    "collapsed": true
   },
   "outputs": [],
   "source": [
    "import numpy as np\n",
    "import cv2\n",
    "\n",
    "cap = cv2.VideoCapture(0)\n",
    "#TO SAVE THE CAPTURED VIDEO\n",
    "fourcc = cv2.VideoWriter_fourcc(*'XVID')\n",
    "out = cv2.VideoWriter('output.avi',fourcc, 20.0, (640,480))\n",
    "\n",
    "while(True):\n",
    "    ret, frame = cap.read()\n",
    "    gray = cv2.cvtColor(frame, cv2.COLOR_BGR2GRAY) #CONVERT THE COLOR TO GRAY\n",
    "    out.write(frame)\n",
    "    cv2.imshow('GRAY',gray) #DISPLAY GRAY COLORED VIDEO IN NEW WINDOW \n",
    "    cv2.imshow('frame',frame) # DISPLAY ORIGNAL VIDEO IN NEW WINDOW\n",
    "    if cv2.waitKey(1) & 0xFF == ord('q'): #EXIT WHEN PRESSED 'q'\n",
    "        break\n",
    "\n",
    "cap.release() #CLOSE CAM\n",
    "out.release() #END OF SAVING VIDEO\n",
    "cv2.destroyAllWindows() # DESTROY THE WINDOW"
   ]
  },
  {
   "cell_type": "code",
   "execution_count": 1,
   "metadata": {},
   "outputs": [
    {
     "ename": "error",
     "evalue": "C:\\bld\\opencv_1498171314629\\work\\opencv-3.2.0\\modules\\highgui\\src\\window.cpp:304: error: (-215) size.width>0 && size.height>0 in function cv::imshow\n",
     "output_type": "error",
     "traceback": [
      "\u001b[1;31m---------------------------------------------------------------------------\u001b[0m",
      "\u001b[1;31merror\u001b[0m                                     Traceback (most recent call last)",
      "\u001b[1;32m<ipython-input-1-af903eb6216f>\u001b[0m in \u001b[0;36m<module>\u001b[1;34m()\u001b[0m\n\u001b[0;32m      4\u001b[0m \u001b[1;32mwhile\u001b[0m\u001b[1;33m(\u001b[0m\u001b[1;32mTrue\u001b[0m\u001b[1;33m)\u001b[0m\u001b[1;33m:\u001b[0m\u001b[1;33m\u001b[0m\u001b[0m\n\u001b[0;32m      5\u001b[0m     \u001b[0mret\u001b[0m\u001b[1;33m,\u001b[0m \u001b[0mframe\u001b[0m \u001b[1;33m=\u001b[0m \u001b[0mcap\u001b[0m\u001b[1;33m.\u001b[0m\u001b[0mread\u001b[0m\u001b[1;33m(\u001b[0m\u001b[1;33m)\u001b[0m \u001b[1;31m#GET PICTURE FROM WEBCM\u001b[0m\u001b[1;33m\u001b[0m\u001b[0m\n\u001b[1;32m----> 6\u001b[1;33m     \u001b[0mcv2\u001b[0m\u001b[1;33m.\u001b[0m\u001b[0mimshow\u001b[0m\u001b[1;33m(\u001b[0m\u001b[1;34m'frame'\u001b[0m\u001b[1;33m,\u001b[0m\u001b[0mframe\u001b[0m\u001b[1;33m)\u001b[0m \u001b[1;31m#SHOW THE IMAGE IN NEW WINDOW\u001b[0m\u001b[1;33m\u001b[0m\u001b[0m\n\u001b[0m\u001b[0;32m      7\u001b[0m     \u001b[1;32mif\u001b[0m \u001b[0mcv2\u001b[0m\u001b[1;33m.\u001b[0m\u001b[0mwaitKey\u001b[0m\u001b[1;33m(\u001b[0m\u001b[1;36m1\u001b[0m\u001b[1;33m)\u001b[0m \u001b[1;33m&\u001b[0m \u001b[1;36m0xFF\u001b[0m \u001b[1;33m==\u001b[0m \u001b[0mord\u001b[0m\u001b[1;33m(\u001b[0m\u001b[1;34m'q'\u001b[0m\u001b[1;33m)\u001b[0m\u001b[1;33m:\u001b[0m \u001b[1;31m# EXIT WHEN PRESSED 'q'\u001b[0m\u001b[1;33m\u001b[0m\u001b[0m\n\u001b[0;32m      8\u001b[0m         \u001b[1;32mbreak\u001b[0m\u001b[1;33m\u001b[0m\u001b[0m\n",
      "\u001b[1;31merror\u001b[0m: C:\\bld\\opencv_1498171314629\\work\\opencv-3.2.0\\modules\\highgui\\src\\window.cpp:304: error: (-215) size.width>0 && size.height>0 in function cv::imshow\n"
     ]
    }
   ],
   "source": [
    "import numpy as np\n",
    "import cv2\n",
    "cap = cv2.VideoCapture(\"C://Users//Public//Videos//Sample Videos//Wildlife.wmv\") # THE STORED VIDEO\n",
    "while(True):\n",
    "    ret, frame = cap.read() #GET THE VIDEO\n",
    "    cv2.imshow('frame',frame) #SHOW THE VIDEO IN NEW WINDOW\n",
    "    if cv2.waitKey(1) & 0xFF == ord('q'): # EXIT WHEN PRESSED 'q'\n",
    "        break\n",
    "\n",
    "cap.release() # CLOSE THE WEBCAM\n",
    "cv2.destroyAllWindows() #CLOSE THE WINDOW"
   ]
  },
  {
   "cell_type": "code",
   "execution_count": null,
   "metadata": {
    "collapsed": true
   },
   "outputs": [],
   "source": []
  }
 ],
 "metadata": {
  "kernelspec": {
   "display_name": "Python 3",
   "language": "python",
   "name": "python3"
  },
  "language_info": {
   "codemirror_mode": {
    "name": "ipython",
    "version": 3
   },
   "file_extension": ".py",
   "mimetype": "text/x-python",
   "name": "python",
   "nbconvert_exporter": "python",
   "pygments_lexer": "ipython3",
   "version": "3.6.1"
  }
 },
 "nbformat": 4,
 "nbformat_minor": 2
}
